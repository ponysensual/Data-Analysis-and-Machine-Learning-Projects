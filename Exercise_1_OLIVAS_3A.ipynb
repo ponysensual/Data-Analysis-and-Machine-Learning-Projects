{
  "nbformat": 4,
  "nbformat_minor": 0,
  "metadata": {
    "colab": {
      "name": "Untitled1.ipynb",
      "provenance": [],
      "authorship_tag": "ABX9TyOci/b6Ud/btNg+ymLatT5t",
      "include_colab_link": true
    },
    "kernelspec": {
      "name": "python3",
      "display_name": "Python 3"
    },
    "language_info": {
      "name": "python"
    }
  },
  "cells": [
    {
      "cell_type": "markdown",
      "metadata": {
        "id": "view-in-github",
        "colab_type": "text"
      },
      "source": [
        "<a href=\"https://colab.research.google.com/github/ponysensual/Data-Analysis-and-Machine-Learning-Projects/blob/master/Exercise_1_OLIVAS_3A.ipynb\" target=\"_parent\"><img src=\"https://colab.research.google.com/assets/colab-badge.svg\" alt=\"Open In Colab\"/></a>"
      ]
    },
    {
      "cell_type": "code",
      "metadata": {
        "id": "_xsi7vSFoU7X"
      },
      "source": [
        "class Persona():\n",
        "\n",
        "    def __init__(self):\n",
        "        nombre = ''\n",
        "        edad = 0\n",
        "\n",
        "    def set_nombre(self, nom):\n",
        "        self.nombre = nom\n",
        "\n",
        "    def set_edad(self, age):\n",
        "        self.edad = age\n",
        "    \n",
        "    def get_nombre(self):\n",
        "        return self.nombre\n",
        "\n",
        "    def get_edad(self):\n",
        "        return self.edad\n",
        "\n",
        "    def es_mayor_edad(self):\n",
        "        if(self.edad >= 18):\n",
        "            return True\n",
        "        elif(self.edad < 18):\n",
        "            return False\n",
        "\n",
        "    def print_persona(self):\n",
        "        print(self.nombre)\n",
        "        print(self.edad)\n",
        "\n",
        "    def es_mayor_que(self, persona2):\n",
        "        if (self.edad > persona2.edad):\n",
        "            print(self.nombre + \" es mayor que \"+ persona2.nombre)\n",
        "        elif (persona2.edad > self.edad):\n",
        "            print(persona2.nombre + \" es mayor que \"+ self.nombre)\n",
        "        else:\n",
        "            print(self.nombre + \" es igual que \"+ persona2.nombre)\n",
        "\n",
        "    \n",
        "    def getmayor(persona1,persona2):\n",
        "        if (persona1.edad > persona2.edad):\n",
        "            return persona1.edad\n",
        "        elif (persona2.edad > persona1.edad):\n",
        "            return persona2.edad\n",
        "\n",
        "def run():\n",
        "    persona1 = Persona()\n",
        "    persona2 = Persona()\n",
        "\n",
        "\n",
        "    persona1.set_edad(16)\n",
        "    persona2.set_edad(19)\n",
        "\n",
        "    persona1.set_nombre(\"Areli\")\n",
        "    persona2.set_nombre(\"Luis\")\n",
        "\n",
        "    persona1.print_persona()\n",
        "    persona2.print_persona()\n",
        "\n",
        "    print(persona1.es_mayor_que(persona2))\n",
        "\n",
        "    print(Persona.getmayor(persona1, persona2))"
      ],
      "execution_count": 2,
      "outputs": []
    }
  ]
}